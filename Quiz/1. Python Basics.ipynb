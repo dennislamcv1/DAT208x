{
 "cells": [
  {
   "cell_type": "markdown",
   "metadata": {},
   "source": [
    "1. Who designed Python?\n",
    "    - Guido van Rossum\n",
    "2. From the list below, select the correct statement.\n",
    "    - The IPython Shell is typically used to work with Python interactively.\n",
    "3. What file extension is used for Python script files?\n",
    "    - .py\n",
    "4. If you do a calculation in the IPython Shell, the result is immediately printed out. If you do the same thing in the script and run it, this printout will not occur. Suppose you want to print out the result of adding 3 and 4 inside a script. Which line of code do you write in the script?\n",
    "    - print(3+4)\n",
    "5. In Python, variables are used all the time. They make your code reproducible. Which line of code creates a variable x with the value 15?\n",
    "    - x = 15\n",
    "6. Consider the following three lines of Python code: x = 5 y = 7, z = x + y + 1. What is the value of the variable z after executing these commands?\n",
    "    - 13\n",
    "7. Suppose you execute the following two lines of Python code: x = \"test\", y = False. Which of the following statements is correct?\n",
    "    - x is a string, y is a boolean."
   ]
  }
 ],
 "metadata": {
  "kernelspec": {
   "display_name": "Python 2",
   "language": "python",
   "name": "python2"
  },
  "language_info": {
   "codemirror_mode": {
    "name": "ipython",
    "version": 2
   },
   "file_extension": ".py",
   "mimetype": "text/x-python",
   "name": "python",
   "nbconvert_exporter": "python",
   "pygments_lexer": "ipython2",
   "version": "2.7.11"
  }
 },
 "nbformat": 4,
 "nbformat_minor": 0
}
