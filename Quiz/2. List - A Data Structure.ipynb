{
 "cells": [
  {
   "cell_type": "markdown",
   "metadata": {},
   "source": [
    "1. Select the true statement.\n",
    "    - A Python list is a way to name a collection of values, instead of having to create separate variables for each element.\n",
    "2. In the video, Filip used type(fam) and type(fam2) to reveal the type of a Python list. What was the result?\n",
    "    - list\n",
    "3. Have a look at the different Python commands below. One of these commands is invalid Python syntax to create a list x. Can you tell which one?\n",
    "    - x = [\"this\", \"is\", \"a\" True \"list\"] <code>x = [\"this\", \"is\", \"a\" True \"list\"]</code> - correct\n",
    "4. Have a look at the following list definition: x = [\"you\", 2, \"are\", \"so\", True]. Which python data types does this list contain? There are three of them.\n",
    "    - int\n",
    "    - str\n",
    "    - bool\n",
    "5. Which pair of symbols do you need to do list subsetting in Python?\n",
    "    - Brackets: []\n",
    "6. What's the correct Python command to extract the element with index 1 from a Python list x?\n",
    "    - x[1]\n",
    "7. Suppose you have a list y, containing 5 elements:\n",
    "    - y[3]\n",
    "    - y[-2]\n",
    "8. List slicing is a very powerful technique to extract several list elements from a list at the same time. If you want to slice a list x, the general syntax is as follows: x[begin:end]. Here, begin and end have to be replaced with indexes according to the slice you want to make. Which of the following statements about slicing is correct?\n",
    "    - The begin index is included in the slice, the end index is not.\n",
    "9. Suppose you have a list x, that is defined as follows: x = [\"a\", \"b\", \"b\"]. To fix it, you want to change the second \"b\" - the third element - to \"c\". Which command do you need for this?\n",
    "    - x[2] = \"c\"\n",
    "10. Have another look at list x. This time, the second \"b\" is replaced by a \"c\". x = [\"a\", \"b\", \"c\"]. What line of Python code do you need to add \"d\" at the end of the list x?\n",
    "    - x = x + [\"d\"]\n",
    "11. Suppose you have a list x, this time defined as follows: x = [\"a\", \"b\", \"c\", \"d\"]. Next, you decide to remove an element from it, using del: del(x[3]). How does the list x look after this operation?\n",
    "    - [\"a\", \"b\", \"c\"]"
   ]
  }
 ],
 "metadata": {
  "kernelspec": {
   "display_name": "Python 2",
   "language": "python",
   "name": "python2"
  },
  "language_info": {
   "codemirror_mode": {
    "name": "ipython",
    "version": 2
   },
   "file_extension": ".py",
   "mimetype": "text/x-python",
   "name": "python",
   "nbconvert_exporter": "python",
   "pygments_lexer": "ipython2",
   "version": "2.7.11"
  }
 },
 "nbformat": 4,
 "nbformat_minor": 0
}
