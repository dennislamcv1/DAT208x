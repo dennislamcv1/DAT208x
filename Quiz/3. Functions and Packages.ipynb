{
 "cells": [
  {
   "cell_type": "markdown",
   "metadata": {},
   "source": [
    "1. What is a Python function?\n",
    "    -  A piece of reusable Python code that solves a particular problem.\n",
    "2. In the video, you saw how the maximum of a list was calculated. Suppose you have a similar list called x. To calculate the minimum value in this list, you can use the min() function. What is the correct Python command to do this?\n",
    "    - min(x)\n",
    "3. Before you use a function, you might want to open up its documentation from inside the IPython Shell. What is the correct Python command to open up the documentation on the min function?\n",
    "    - help(min)\n",
    "4. The function round has two arguments, as this excerpt of the documentation shows round(...) round(number[, ndigits]) -> number Round a number to a given precision in decimal digits (default 0 digits). This returns an int when called with one argument, otherwise the same type as the number. ndigits may be negative.\n",
    "    - number is a required argument.\n",
    "    - ndigits is an optional argument.\n",
    "5. What can you say about the append() method?\n",
    "    - In Python, methods are functions that belong to Python objects. append() is a method, and therefore also a function. \n",
    "6. Suppose I have a string x, defined as follows: x = \"monty python says hi!\". What's the correct Python command to capitalize this string x?\n",
    "    - x.capitalize()\n",
    "7. In the video, you got to know the append() method. Consider the following two Python commands: x = [4, 9, 5, 7]; x.append(6). How does the list x look after executing these two commands?\n",
    "    - [4, 9, 5, 7, 6]\n",
    "8. Which package installation and maintance system for Python did Filip talk about in the video?\n",
    "    - pip\n",
    "9. In the video, all the commands to import packages used the same statement. This statement is the most common way to invoke the import machinery. What statement are we talking about here?\n",
    "    - import\n",
    "10. In the video, you saw how Numpy could be imported as np. Suppose that instead of importing it as np, you decide to import it as foo: import numpy as foo. Which Python command that used the array() function from Numpy is valid if Numpy is imported as foo?\n",
    "    - foo.array([1,2,3])\n",
    "11. Suppose you want to use Numpy's array() function. You can import this function as follows: from numpy import array; or you can import the entire numpy package: import numpy. Select the two statements about this difference that hold.\n",
    "    - The from numpy import array version will make it less clear in the code that you're using Numpy's array() function.\n",
    "    - Using import numpy will require you to use numpy.array(), making it clear that you're using a Numpy function."
   ]
  }
 ],
 "metadata": {
  "kernelspec": {
   "display_name": "Python 3",
   "language": "python",
   "name": "python3"
  },
  "language_info": {
   "codemirror_mode": {
    "name": "ipython",
    "version": 3
   },
   "file_extension": ".py",
   "mimetype": "text/x-python",
   "name": "python",
   "nbconvert_exporter": "python",
   "pygments_lexer": "ipython3",
   "version": "3.5.1"
  }
 },
 "nbformat": 4,
 "nbformat_minor": 0
}
