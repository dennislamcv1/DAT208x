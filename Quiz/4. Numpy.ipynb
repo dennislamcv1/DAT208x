{
 "cells": [
  {
   "cell_type": "markdown",
   "metadata": {},
   "source": [
    "1. What's the Numpy function to create an array?\n",
    "    - array()\n",
    "2. Filip explained the difference between regular Python lists and Numpy arrays. Which two statements describe the advantage of Numpy Package over regular Python Lists?\n",
    "    - The Numpy Package provides the array, a data type that can be used to do element-wise calculations.\n",
    "    - Because Numpy arrays can only hold element of a single type, calculations on Numpy arrays can be carried out way faster than regular Python lists.\n",
    "3. How does the resulting Numpy array z look after you execute the following lines of code? import numpy as np; x = np.array([1, 2, 3]); y = np.array([3, 2, 1]); z = x + y\n",
    "    - array([4, 4, 4])\n",
    "4. Numpy arrays can only hold elements with the same basic type. What happens if you try to put an integer, a boolean and a string in the same Numpy array using the array() function?\n",
    "    - All array elements are converted to strings. All array elements are converted to strings. - correct\n",
    "5. What charaterizes multi-dimensional Numpy arrays?\n",
    "    - You can create a 2D Numpy array from a regular list of lists.\n",
    "6. Apart from element-wise calculations, 2D Numpy arrays also offer more advanced ways of subsetting compared to regular Python lists of lists. Have a look at the following 2D Numpy array, x. import numpy as np; x = np.array([[\"a\", \"b\", \"c\", \"d\"], [\"e\", \"f\", \"g\", \"h\"]]). What's the correct Python command to select the string \"g\" from x?\n",
    "    - x[1,2]\n",
    "7. Multiple choice problems allow learners to select only one option. Learners can see all the options along with the problem text. In the video, Filip mentioned that 2D Numpy arrays also allow element-wise calculations. You'll get plenty of practice with this in the exercises. For starters, can you tell what the resulting array z will contain after executing the following lines of Python code? import numpy as np; x = np.array([[1, 2, 3], [1, 2, 3]]); y = np.array([[1, 1, 1], [1, 2, 3]]); z = x - y\n",
    "    ¸- array([[0, 1, 2], [0, 0, 0]])\n",
    "8. Have a look at the following statements about Basic Statistics with Numpy and select the correct one. To read these statements correctly, assume that the Numpy package is imported as np.\n",
    "    - Numpy offers many functions to calculate basic statistics, such as np.mean(), np.median() and np.std().\n",
    "9. Suppose you're measuring your travel time to work each day, together with the weather. The data could look something like this: import numpy as np; x = np.array([[28, 18], [34, 14], [32, 16], ... [26, 23], [23, 17]]). Here, each row specifies the measurements for a single day. The first column specifies the temperature in Fahrenheit, the second column specifies the amount of minutes it took to get to your job. Which Python command do you need to calculate the average travel time over all these observations?\n",
    "    - np.mean(x[:,1])\n",
    "10. As a wrap up, have a look at the statements below about Numpy in general. Select the three statements that hold.\n",
    "    - Numpy is a great alternative to the regular Python list if you want to do Data Science in Python.\n",
    "    - Numpy arrays can only hold elements of the same basic type.\n",
    "    - Next to an efficient data structure, Numpy also offers tools to calculate summary statistics and to simulate statistical distributions."
   ]
  }
 ],
 "metadata": {
  "kernelspec": {
   "display_name": "Python 3",
   "language": "python",
   "name": "python3"
  },
  "language_info": {
   "codemirror_mode": {
    "name": "ipython",
    "version": 3
   },
   "file_extension": ".py",
   "mimetype": "text/x-python",
   "name": "python",
   "nbconvert_exporter": "python",
   "pygments_lexer": "ipython3",
   "version": "3.5.1"
  }
 },
 "nbformat": 4,
 "nbformat_minor": 0
}
