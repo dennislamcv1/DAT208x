{
 "cells": [
  {
   "cell_type": "markdown",
   "metadata": {},
   "source": [
    "1. What is the characteristic about data visualization?\n",
    "    - Visualization is a very powerful tool, both for exploring your data, as for reporting the results you come up with.\n",
    "2. What is the conventional way of importing the pyplot sub-package from the matplotlib package?\n",
    "    - import matplotlib.pyplot as plt\n",
    "3. You are creating a line plot using the following code: a = [1, 2, 3, 4]; b = [3, 9, 2, 6]; plt.plot(a, b); plt.show()\n",
    "    - The values in a are mapped onto the horizontal axis.\n",
    "    - The values in b are mapped onto the vertical axis.\n",
    "4. Have another look at the code from the previous review question: a = [1, 2, 3, 4]; b = [3, 9, 2, 6]; plt.plot(a, b); plt.show()\n",
    "    - Change plot() in plt.plot() to scatter().\n",
    "5. What is a characteristic of a histogram?\n",
    "    - Histograms are a great tool to get a first idea about the distribution of your data.\n",
    "6. Suppose you have a Python list with 10 different values. You decide to divide the values into 5 equally-sized bins. How wide will these bins be if the lowest value in your list is 0 and the highest is 20?\n",
    "    - 4\n",
    "7. Have a look at the following code sample: import matplotlib.pyplot as plt; x = [1, 3, 6, 3, 2, 7, 3, 9, 7, 5, 2, 4]; plt.hist(x); plt.show(). If you do not specify the number of bins the data has to be divided into, matplotlib chooses a suitable number of bins for you. How should you extend the plt.hist() command to specifically set the number of bins to 4?\n",
    "    - Add a second argument to plt.hist(): plt.hist(x, bins = 4)\n",
    "8. A typical step when you're customizing a plot is labelling your axes. How can you do this with matplotlib?\n",
    "    - xlabel(\"x-axis title\") and ylabel(\"y-axis title\")\n",
    "9. What is the name of the matplotlib function to build a line plot where the area under the graph is colored?\n",
    "    - fill_between()\n",
    "10. Filip specifically mentioned that you should place all customization commands between the plot() call and the show() call, like this: import matplotlib.pyplot as plt; x = [1, 2, 3]; y = [4, 5, 6]; plt.plot(x, y); # customization here; plt.show(). Suppose you decide to place the customization code after the show() function, as follows: import matplotlib.pyplot as plt; x = [1, 2, 3]; y = [4, 5, 6]; plt.plot(x, y); plt.show(); # customization here. What do you think will happen if you execute the Python code in this order?\n",
    "    - Python doesn't throw an error, but you won't see your customizations. The show() function displays the plot you've built up until then. If the customizations come afterwards, there is no effect on the shown output."
   ]
  }
 ],
 "metadata": {
  "kernelspec": {
   "display_name": "Python 3",
   "language": "python",
   "name": "python3"
  },
  "language_info": {
   "codemirror_mode": {
    "name": "ipython",
    "version": 3
   },
   "file_extension": ".py",
   "mimetype": "text/x-python",
   "name": "python",
   "nbconvert_exporter": "python",
   "pygments_lexer": "ipython3",
   "version": "3.5.1"
  }
 },
 "nbformat": 4,
 "nbformat_minor": 0
}
