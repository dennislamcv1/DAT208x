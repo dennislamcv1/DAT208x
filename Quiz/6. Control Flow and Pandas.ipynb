{
 "cells": [
  {
   "cell_type": "markdown",
   "metadata": {},
   "source": [
    "1. Have a look at the following comparison: 5 >= 5. What is the result of this comparison?\n",
    "    - True\n",
    "2. Have a look at the following comparison: 4 != 4. What is the result of this comparison?\n",
    "    - False\n",
    "3. You can use the and operator to compare different booleans. What is the characteristic of the and operator?\n",
    "    - The and operator returns True only if both operands are True. In other words, only True and True gives True.\n",
    "4. You can use the or operator to compare different booleans. What is the characteristic of the or operator?\n",
    "    - The or operator returns True if at least one of the operands is True. In other words, True or False, False or True and True or True all result in True.\n",
    "5. Things get really interesting once you can use the results of comparisons and boolean operations in a control structure. Have a look at the example below: x = 5; if x > 6 : print(\"high\") else : print(\"low\"). What will be printed out if you execute this piece of code?\n",
    "    - low\n",
    "6. If your control structures get more advanced, Python can take many different paths through your code. It is very important to understand how Python does this. Have a look at the following control structure: x = 7; if x > 6 : print(\"high\") elif x > 3 : print(\"ok\") else : print(\"low\"). What will be printed out if you execute this piece of code?\n",
    "    - high\n",
    "7. How is a Pandas DataFrame different from a 2D Numpy array?\n",
    "    - In Pandas, different columns can contain different types. In 2D Numpy arrays, this is not possible.\n",
    "8. What are two characteristics that describe Pandas DataFrame?\n",
    "    - The rows correspond to observations.\n",
    "    - The columns correspond to variables.\n",
    "9. Which Pandas function do you need to import data from a comma-separated value (CSV) file into a Pandas DataFrame?\n",
    "    - read_csv()\n",
    "10. You can access data in a Pandas DataFrame in several ways. Which technique should you use to select an entire row by its row label?\n",
    "    - loc"
   ]
  }
 ],
 "metadata": {
  "kernelspec": {
   "display_name": "Python 3",
   "language": "python",
   "name": "python3"
  },
  "language_info": {
   "codemirror_mode": {
    "name": "ipython",
    "version": 3
   },
   "file_extension": ".py",
   "mimetype": "text/x-python",
   "name": "python",
   "nbconvert_exporter": "python",
   "pygments_lexer": "ipython3",
   "version": "3.5.1"
  }
 },
 "nbformat": 4,
 "nbformat_minor": 0
}
